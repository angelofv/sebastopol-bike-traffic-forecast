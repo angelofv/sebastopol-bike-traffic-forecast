{
 "cells": [
  {
   "cell_type": "markdown",
   "id": "96776521",
   "metadata": {},
   "source": [
    "# Import"
   ]
  },
  {
   "cell_type": "code",
   "execution_count": 3,
   "id": "5bf7b888",
   "metadata": {},
   "outputs": [],
   "source": [
    "# TODO: Import necessary libraries\n",
    "import os\n",
    "import sys"
   ]
  },
  {
   "cell_type": "code",
   "execution_count": 4,
   "id": "fef101d5",
   "metadata": {},
   "outputs": [],
   "source": [
    "REPO_ROOT = os.path.abspath(os.path.join(os.getcwd(), \"..\"))\n",
    "sys.path.insert(0, REPO_ROOT)\n",
    "\n",
    "from src.config import load_catalog\n",
    "\n",
    "catalog = load_catalog()"
   ]
  },
  {
   "cell_type": "markdown",
   "id": "1bb288fe",
   "metadata": {},
   "source": [
    "# Load data from filesystem"
   ]
  },
  {
   "cell_type": "code",
   "execution_count": 5,
   "id": "f0745124",
   "metadata": {},
   "outputs": [],
   "source": [
    "df_processed = catalog.load(\"processed_data\")"
   ]
  },
  {
   "cell_type": "code",
   "execution_count": null,
   "id": "93d35a89",
   "metadata": {},
   "outputs": [],
   "source": [
    "# TODO: Define model training strategy"
   ]
  }
 ],
 "metadata": {
  "kernelspec": {
   "display_name": "sebastopol-bike-traffic-forecast",
   "language": "python",
   "name": "python3"
  },
  "language_info": {
   "codemirror_mode": {
    "name": "ipython",
    "version": 3
   },
   "file_extension": ".py",
   "mimetype": "text/x-python",
   "name": "python",
   "nbconvert_exporter": "python",
   "pygments_lexer": "ipython3",
   "version": "3.10.18"
  }
 },
 "nbformat": 4,
 "nbformat_minor": 5
}
