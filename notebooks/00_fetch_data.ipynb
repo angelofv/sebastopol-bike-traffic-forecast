{
 "cells": [
  {
   "cell_type": "markdown",
   "id": "65f52c5e",
   "metadata": {},
   "source": [
    "# Fetch data from API"
   ]
  },
  {
   "cell_type": "code",
   "execution_count": 1,
   "id": "73a94aee",
   "metadata": {},
   "outputs": [],
   "source": [
    "import requests\n",
    "\n",
    "def fetch_data(\n",
    "    dataset_id: str = \"comptage-multimodal-comptages\",\n",
    "    export_format: str = \"parquet\",\n",
    "    save_path: str = \"../data/01_raw/comptage-multimodal-comptages.parquet\",\n",
    ") -> None:\n",
    "    \"\"\"\n",
    "    Download the multimodal counting data (bikes + scooters) for Boulevard Sébastopol\n",
    "    from the OpenDataSoft API in Parquet format and save it locally.\n",
    "    \"\"\"\n",
    "    # Build the endpoint URL\n",
    "    url = (\n",
    "        f\"https://parisdata.opendatasoft.com/api/explore/v2.1/catalog/\"\n",
    "        f\"datasets/{dataset_id}/exports/{export_format}\"\n",
    "    )\n",
    "\n",
    "    # Query parameters: filter to both bike and scooter modes on the two Sebastopol counters\n",
    "    params = {\n",
    "        \"refine\": [\n",
    "            \"mode:Trottinettes + vélos\",\n",
    "            \"mode:Trottinettes\",\n",
    "            \"mode:Vélos\",\n",
    "            \"label:CF1461_113 boulevard de Sébastopol\",\n",
    "            \"label:CF0001_9 boulevard de Sébastopol\",\n",
    "        ],\n",
    "        \"timezone\": \"UTC\",\n",
    "        \"limit\": -1,\n",
    "        \"parquet_compression\": \"snappy\",\n",
    "    }\n",
    "\n",
    "    # Send request and save the response content to disk\n",
    "    response = requests.get(url, params=params)\n",
    "    response.raise_for_status()\n",
    "\n",
    "    with open(save_path, \"wb\") as f:\n",
    "        f.write(response.content)\n",
    "\n",
    "    print(f\"File downloaded and saved to: {save_path}\")\n"
   ]
  },
  {
   "cell_type": "code",
   "execution_count": 2,
   "id": "32f98bac",
   "metadata": {},
   "outputs": [
    {
     "name": "stdout",
     "output_type": "stream",
     "text": [
      "File downloaded and saved to: ../data/01_raw/comptage-multimodal-comptages.parquet\n"
     ]
    }
   ],
   "source": [
    "fetch_data()"
   ]
  }
 ],
 "metadata": {
  "kernelspec": {
   "display_name": "sebastopol-bike-traffic-forecast",
   "language": "python",
   "name": "python3"
  },
  "language_info": {
   "codemirror_mode": {
    "name": "ipython",
    "version": 3
   },
   "file_extension": ".py",
   "mimetype": "text/x-python",
   "name": "python",
   "nbconvert_exporter": "python",
   "pygments_lexer": "ipython3",
   "version": "3.10.18"
  }
 },
 "nbformat": 4,
 "nbformat_minor": 5
}
